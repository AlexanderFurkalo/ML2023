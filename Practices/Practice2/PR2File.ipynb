{
 "cells": [
  {
   "cell_type": "markdown",
   "metadata": {},
   "source": [
    "Практична робота №2\n",
    "\n",
    "Студента групи МІТ-31 (підгрупа 2)\n",
    "\n",
    "Фуркала Олександра Олександровича\n",
    "\n",
    "Завдання 1 та 2:"
   ]
  },
  {
   "cell_type": "code",
   "execution_count": null,
   "metadata": {
    "vscode": {
     "languageId": "plaintext"
    }
   },
   "outputs": [],
   "source": [
    "import numpy as np\n",
    "import pandas as pd \n",
    "import matplotlib.pyplot as plt\n",
    "\n",
    "np.random.seed(0)\n",
    "n_samples = 100\n",
    "acceptance = 580\n",
    "#random.uniform використовується для створення випадкових чисел з плаваючою комою, рівномірно розподілених між двома вказаними значеннями\n",
    "income = np.random.uniform(0, 100000, n_samples)\n",
    "#random.randint використовується для створення випадкових цілих значень, рівномірно розподілених між двома вказаними значеннями\n",
    "score = np.random.randint(0, 850, n_samples)\n",
    "#Створення DataFrame \n",
    "data = pd.DataFrame({'Income': income, 'Credit Score': score})\n",
    "data['Class'] = np.where(score > acceptance, 1, 0)\n",
    "print (data)"
   ]
  },
  {
   "cell_type": "markdown",
   "metadata": {},
   "source": [
    "          Income  Credit Score  Class\n",
    "\n",
    "0   54881.350393           637      1\n",
    "\n",
    "1   71518.936637           770      1\n",
    "\n",
    "2   60276.337607           515      0\n",
    "\n",
    "3   54488.318300            94      0\n",
    "\n",
    "4   42365.479934           226      0\n",
    "\n",
    "..           ...           ...    ...\n",
    "\n",
    "95  18319.136201           807      1\n",
    "\n",
    "96  58651.293481           393      0\n",
    "\n",
    "97   2010.754619            73      0\n",
    "\n",
    "98  82894.002922           297      0\n",
    "\n",
    "99    469.547619           814      1\n",
    "\n",
    "[100 rows x 3 columns]"
   ]
  },
  {
   "cell_type": "markdown",
   "metadata": {},
   "source": [
    "Завдання 3"
   ]
  },
  {
   "cell_type": "code",
   "execution_count": null,
   "metadata": {
    "vscode": {
     "languageId": "plaintext"
    }
   },
   "outputs": [],
   "source": [
    "#Розподілення даних на тренувальні та тестові набори\n",
    "from sklearn.model_selection import train_test_split \n",
    "X = data[['Income', 'Credit Score']]\n",
    "y = data['Class']\n",
    "X_train, X_test, y_train, y_test = train_test_split(X, y, test_size=0.2, random_state=42)\n",
    "#test_size: Якщо float, має бути від 0,0 до 1,0 і представляти пропорцію набору даних для включення в тестовий розподіл. \n",
    "#Якщо int, представляє абсолютну кількість тестових зразків.\n",
    "#random state: Керує перетасуванням, застосованим до даних перед застосуванням розділення. \n",
    "#Потрібно передати int для відтворюваного виведення через кілька викликів функцій"
   ]
  },
  {
   "cell_type": "markdown",
   "metadata": {},
   "source": [
    "Завдання 4"
   ]
  },
  {
   "cell_type": "code",
   "execution_count": null,
   "metadata": {
    "vscode": {
     "languageId": "plaintext"
    }
   },
   "outputs": [],
   "source": [
    "from sklearn.linear_model import LogisticRegression\n",
    "model = LogisticRegression()\n",
    "#Тренування моделі\n",
    "model.fit(X_train, y_train)\n",
    "#Передбачуємо\n",
    "y_pred = model.predict(X_test)"
   ]
  },
  {
   "cell_type": "markdown",
   "metadata": {},
   "source": [
    "Завдання 5"
   ]
  },
  {
   "cell_type": "code",
   "execution_count": null,
   "metadata": {
    "vscode": {
     "languageId": "plaintext"
    }
   },
   "outputs": [],
   "source": [
    "from sklearn.metrics import accuracy_score, classification_report, confusion_matrix\n",
    "accuracy = accuracy_score(y_test, y_pred)\n",
    "report = classification_report(y_test, y_pred)\n",
    "train_matrix = confusion_matrix(y_test, y_pred)\n",
    "print(f\"Training Accuracy: {accuracy:.2f}\")\n",
    "#Символ f використовується для створення f-рядка (літералу форматованого рядка) у Python.\n",
    "#2f — це специфікатор формату, наказує Python форматувати точність як число з плаваючою комою з двома знаками після коми\n",
    "print(\"Confusion Matrix:\")\n",
    "print(train_matrix)\n",
    "print(\"Classification Report:\")\n",
    "print(report)"
   ]
  },
  {
   "cell_type": "markdown",
   "metadata": {},
   "source": [
    "Training Accuracy: 0.90\n",
    "\n",
    "Confusion Matrix:\n",
    "\n",
    "[[12  1]\n",
    "\n",
    " [ 1  6]]\n",
    "\n",
    "Classification Report:\n",
    "\n",
    "              precision    recall  f1-score   support\n",
    "\n",
    "           0       0.92      0.92      0.92        13\n",
    "           1       0.86      0.86      0.86         7\n",
    "\n",
    "    accuracy                           0.90        20\n",
    "    macro avg      0.89      0.89      0.89        20\n",
    "    weighted avg   0.90      0.90      0.90        20"
   ]
  },
  {
   "cell_type": "markdown",
   "metadata": {},
   "source": [
    "Завдання 6"
   ]
  },
  {
   "cell_type": "code",
   "execution_count": null,
   "metadata": {
    "vscode": {
     "languageId": "plaintext"
    }
   },
   "outputs": [],
   "source": [
    "x_class0 = X_test[y_test == 0]\n",
    "x_class1 = X_test[y_test == 1]\n",
    "plt.scatter(x_class0.iloc[:, 0], x_class0.iloc[:, 1], marker='o', color='red', label='Class 0')\n",
    "plt.scatter(x_class1.iloc[:, 0], x_class1.iloc[:, 1], marker='o', color='green', label='Class 1')\n",
    "#.iloc[:, 0]: використовується для вибору рядків і стовпців за цілими позиціями.\n",
    "#У цьому випадку [:, 0] означає вибір усіх рядків (позначених :) і першого стовпця (стовпець у позиції 0).\n",
    "#Отже, вибираються всі рядки з першого стовпця x_class0.\n",
    "plt.legend()\n",
    "plt.title('Distribution of Classes (Class 0 and Class 1)')\n",
    "plt.show()"
   ]
  },
  {
   "cell_type": "markdown",
   "metadata": {},
   "source": [
    "![Alt text](image.png)"
   ]
  }
 ],
 "metadata": {
  "language_info": {
   "name": "python"
  },
  "orig_nbformat": 4
 },
 "nbformat": 4,
 "nbformat_minor": 2
}
