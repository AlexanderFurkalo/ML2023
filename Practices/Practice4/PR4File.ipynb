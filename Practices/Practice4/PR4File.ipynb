{
 "cells": [
  {
   "cell_type": "markdown",
   "metadata": {},
   "source": [
    "Практична робота №4\n",
    "\n",
    "Студента групи МІТ-31 (підгрупа 2)\n",
    "\n",
    "Фуркала Олександра Олександровича\n",
    "\n",
    "Завдання 1"
   ]
  },
  {
   "cell_type": "code",
   "execution_count": 2,
   "metadata": {},
   "outputs": [
    {
     "name": "stdout",
     "output_type": "stream",
     "text": [
      "SVM Metrics:\n",
      "Accuracy: 0.85\n",
      "Precision: 0.7619047619047619\n",
      "Recall: 0.9411764705882353\n",
      "F1 Score: 0.8421052631578947\n",
      "AUC-ROC: 0.9335038363171355\n"
     ]
    },
    {
     "data": {
      "image/png": "[encoded data removed]",
      "text/plain": [
       "<Figure size 600x400 with 2 Axes>"
      ]
     },
     "metadata": {},
     "output_type": "display_data"
    }
   ],
   "source": [
    "import pandas as pd\n",
    "from sklearn.model_selection import train_test_split\n",
    "from sklearn.svm import SVC\n",
    "from sklearn.metrics import accuracy_score, precision_score, recall_score, f1_score, roc_auc_score, confusion_matrix\n",
    "import matplotlib.pyplot as plt\n",
    "import seaborn as sns\n",
    "\n",
    "data = pd.read_csv('classification_dataset.csv')\n",
    "\n",
    "X = data[['Feature1', 'Feature2']]\n",
    "y = data['Target']\n",
    "\n",
    "X_train, X_test, y_train, y_test = train_test_split(X, y, test_size=0.2, random_state=42)\n",
    "\n",
    "model_svm = SVC(kernel='linear', C=1)\n",
    "model_svm.fit(X_train, y_train)\n",
    "y_pred = model_svm.predict(X_test)\n",
    "print(\"SVM Metrics:\")\n",
    "print(f\"Accuracy: {accuracy_score(y_test, y_pred)}\")\n",
    "print(f\"Precision: {precision_score(y_test, y_pred)}\")\n",
    "print(f\"Recall: {recall_score(y_test, y_pred)}\")\n",
    "print(f\"F1 Score: {f1_score(y_test, y_pred)}\")\n",
    "print(f\"AUC-ROC: {roc_auc_score(y_test, model_svm.decision_function(X_test))}\")\n",
    "\n",
    "confmatr = confusion_matrix(y_test, y_pred)\n",
    "plt.figure(figsize=(6, 4))\n",
    "sns.heatmap(confmatr, annot=True, fmt='d', cmap='Blues')\n",
    "plt.title('SVM Confusion Matrix')\n",
    "plt.xlabel('Predicted')\n",
    "plt.ylabel('Actual')\n",
    "plt.show()"
   ]
  },
  {
   "cell_type": "markdown",
   "metadata": {},
   "source": [
    "Завдання 2"
   ]
  },
  {
   "cell_type": "code",
   "execution_count": 4,
   "metadata": {},
   "outputs": [
    {
     "name": "stdout",
     "output_type": "stream",
     "text": [
      "Random Forest Classifier:\n",
      "Accuracy: 0.7\n",
      "F1 Score: 0.6821635472370766\n",
      "Confusion Matrix:\n",
      " [[ 4  1  2  0]\n",
      " [ 4  3  0  1]\n",
      " [ 1  0 11  2]\n",
      " [ 0  0  1 10]]\n",
      "\n",
      "Support Vector Machine (SVM) Classifier:\n",
      "Accuracy: 0.7\n",
      "F1 Score: 0.6821635472370766\n",
      "Confusion Matrix:\n",
      " [[ 4  0  3  0]\n",
      " [ 5  2  0  1]\n",
      " [ 1  1 11  1]\n",
      " [ 0  0  0 11]]\n"
     ]
    }
   ],
   "source": [
    "import pandas as pd\n",
    "from sklearn.model_selection import train_test_split\n",
    "from sklearn.ensemble import RandomForestClassifier\n",
    "from sklearn.svm import SVC\n",
    "from sklearn.metrics import accuracy_score, precision_recall_fscore_support, confusion_matrix\n",
    "\n",
    "data = pd.read_csv(\"multiclass_dataset.csv\")\n",
    "\n",
    "X = data[['Feature1', 'Feature2', 'Feature3', 'Feature4', 'Feature5', 'Feature6']]\n",
    "y = data['Target']\n",
    "\n",
    "X_train, X_test, y_train, y_test = train_test_split(X, y, test_size=0.2, random_state=42)\n",
    "\n",
    "rf_classifier = RandomForestClassifier(n_estimators=100, random_state=42)\n",
    "\n",
    "rf_classifier.fit(X_train, y_train)\n",
    "y_pred_rf = rf_classifier.predict(X_test)\n",
    "\n",
    "svm_classifier = SVC(kernel='linear', C=1, decision_function_shape='ovr', random_state=42)\n",
    "svm_classifier.fit(X_train, y_train)\n",
    "y_pred_svm = svm_classifier.predict(X_test)\n",
    "\n",
    "accuracy_rf = accuracy_score(y_test, y_pred_rf)\n",
    "precision, recall, f1, _ = precision_recall_fscore_support(y_test, y_pred_rf, average='weighted')\n",
    "cm_rf = confusion_matrix(y_test, y_pred_rf)\n",
    "\n",
    "accuracy_svm = accuracy_score(y_test, y_pred_svm)\n",
    "precision, recall, f1, _ = precision_recall_fscore_support(y_test, y_pred_svm, average='weighted')\n",
    "cm_svm = confusion_matrix(y_test, y_pred_svm)\n",
    "\n",
    "print(\"Random Forest Classifier:\")\n",
    "print(f\"Accuracy: {accuracy_rf}\")\n",
    "print(f\"F1 Score: {f1}\")\n",
    "print(\"Confusion Matrix:\\n\", cm_rf)\n",
    "\n",
    "print(\"\\nSupport Vector Machine (SVM) Classifier:\")\n",
    "print(f\"Accuracy: {accuracy_svm}\")\n",
    "print(f\"F1 Score: {f1}\")\n",
    "print(\"Confusion Matrix:\\n\", cm_svm)"
   ]
  },
  {
   "cell_type": "markdown",
   "metadata": {},
   "source": [
    "Завдання 3"
   ]
  },
  {
   "cell_type": "code",
   "execution_count": 8,
   "metadata": {},
   "outputs": [
    {
     "name": "stdout",
     "output_type": "stream",
     "text": [
      "Accuracy: 0.475\n",
      "\n",
      "Metrics for Label1:\n",
      "Precision: 1.0\n",
      "Recall: 0.5555555555555556\n",
      "F1 Score: 0.7142857142857143\n",
      "\n",
      "Metrics for Label2:\n",
      "Precision: 0.7307692307692307\n",
      "Recall: 0.9047619047619048\n",
      "F1 Score: 0.8085106382978723\n",
      "\n",
      "Metrics for Label3:\n",
      "Precision: 0.7368421052631579\n",
      "Recall: 0.7368421052631579\n",
      "F1 Score: 0.7368421052631579\n",
      "\n",
      "Metrics for Label4:\n",
      "Precision: 0.8571428571428571\n",
      "Recall: 0.5454545454545454\n",
      "F1 Score: 0.6666666666666665\n"
     ]
    }
   ],
   "source": [
    "import pandas as pd\n",
    "from sklearn.model_selection import train_test_split\n",
    "from sklearn.multioutput import MultiOutputClassifier\n",
    "from sklearn.ensemble import RandomForestClassifier\n",
    "from sklearn.metrics import accuracy_score, precision_recall_fscore_support\n",
    "\n",
    "data = pd.read_csv(\"multilabel_dataset.csv\")\n",
    "\n",
    "X = data[['Feature1', 'Feature2', 'Feature3']]\n",
    "y = data[['Label1', 'Label2', 'Label3', 'Label4']]\n",
    "\n",
    "X_train, X_test, y_train, y_test = train_test_split(X, y, test_size=0.2, random_state=42)\n",
    "\n",
    "rf_classifier = RandomForestClassifier(n_estimators=100, random_state=42)\n",
    "multioutput_classifier = MultiOutputClassifier(rf_classifier)\n",
    "multioutput_classifier.fit(X_train, y_train)\n",
    "y_pred = multioutput_classifier.predict(X_test)\n",
    "\n",
    "accuracy = accuracy_score(y_test, y_pred)\n",
    "precision, recall, f1, _ = precision_recall_fscore_support(y_test, y_pred, average=None)\n",
    "label_names = ['Label1', 'Label2', 'Label3', 'Label4']\n",
    "\n",
    "print(f\"Accuracy: {accuracy}\")\n",
    "for i in range(len(label_names)):\n",
    "    print(f\"\\nMetrics for {label_names[i]}:\")    \n",
    "    print(f\"Precision: {precision[i]}\")\n",
    "    print(f\"Recall: {recall[i]}\")\n",
    "    print(f\"F1 Score: {f1[i]}\")"
   ]
  }
 ],
 "metadata": {
  "kernelspec": {
   "display_name": "Python 3",
   "language": "python",
   "name": "python3"
  },
  "language_info": {
   "codemirror_mode": {
    "name": "ipython",
    "version": 3
   },
   "file_extension": ".py",
   "mimetype": "text/x-python",
   "name": "python",
   "nbconvert_exporter": "python",
   "pygments_lexer": "ipython3",
   "version": "3.11.4"
  }
 },
 "nbformat": 4,
 "nbformat_minor": 2
}
